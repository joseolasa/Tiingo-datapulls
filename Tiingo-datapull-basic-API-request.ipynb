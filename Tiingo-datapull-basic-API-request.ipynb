{
 "cells": [
  {
   "cell_type": "code",
   "execution_count": 1,
   "metadata": {},
   "outputs": [],
   "source": [
    "import pandas as pd\n",
    "import numpy as np\n",
    "import os\n",
    "from dotenv import load_dotenv\n",
    "from pathlib import Path\n",
    "import requests\n",
    "import matplotlib\n",
    "import json\n",
    "\n"
   ]
  },
  {
   "cell_type": "code",
   "execution_count": 2,
   "metadata": {},
   "outputs": [
    {
     "name": "stdout",
     "output_type": "stream",
     "text": [
      "fef57480e2e0f8ec3e8773f51f4e26142fcd0ee6\n"
     ]
    }
   ],
   "source": [
    "load_dotenv()\n",
    "\n",
    "Tiingo_api_key = os.getenv('TIINGO')\n",
    "\n",
    "print(Tiingo_api_key)"
   ]
  },
  {
   "cell_type": "code",
   "execution_count": 3,
   "metadata": {},
   "outputs": [
    {
     "name": "stdout",
     "output_type": "stream",
     "text": [
      "https://api.tiingo.com/tiingo/daily/aapl/prices?startDate=2022-01-01&endDate=2022-03-01&token=fef57480e2e0f8ec3e8773f51f4e26142fcd0ee6&format=json&resampleFreq=daily\n"
     ]
    }
   ],
   "source": [
    "Start_date = \"2022-01-01\"\n",
    "End_date =  \"2022-03-01\"\n",
    "ticker = \"aapl\"\n",
    "\n",
    "requests_url = f\"https://api.tiingo.com/tiingo/daily/{ticker}/prices?startDate={Start_date}&endDate={End_date}&token={Tiingo_api_key}&format=json&resampleFreq=daily\" \n",
    "print(requests_url)\n"
   ]
  },
  {
   "cell_type": "code",
   "execution_count": 4,
   "metadata": {},
   "outputs": [
    {
     "name": "stdout",
     "output_type": "stream",
     "text": [
      "[{'date': '2022-01-03T00:00:00.000Z', 'close': 182.01, 'high': 182.88, 'low': 177.71, 'open': 177.83, 'volume': 104701220, 'adjClose': 180.4563469496, 'adjHigh': 181.3189205546, 'adjLow': 176.1930521203, 'adjOpen': 176.31202779, 'adjVolume': 104701220, 'divCash': 0.0, 'splitFactor': 1.0}, {'date': '2022-01-04T00:00:00.000Z', 'close': 179.7, 'high': 182.94, 'low': 179.12, 'open': 182.63, 'volume': 99310438, 'adjClose': 178.1660653088, 'adjHigh': 181.3784083894, 'adjLow': 177.5910162388, 'adjOpen': 181.0710545762, 'adjVolume': 99310438, 'divCash': 0.0, 'splitFactor': 1.0}, {'date': '2022-01-05T00:00:00.000Z', 'close': 174.92, 'high': 180.17, 'low': 174.64, 'open': 179.61, 'volume': 94537602, 'adjClose': 173.4268678008, 'adjHigh': 178.6320533482, 'adjLow': 173.149257905, 'adjOpen': 178.0768335565, 'adjVolume': 94537602, 'divCash': 0.0, 'splitFactor': 1.0}, {'date': '2022-01-06T00:00:00.000Z', 'close': 172.0, 'high': 175.3, 'low': 171.64, 'open': 172.7, 'volume': 96903955, 'adjClose': 170.5317931725, 'adjHigh': 173.8036240881, 'adjLow': 170.1748661636, 'adjOpen': 171.2258179122, 'adjVolume': 96903955, 'divCash': 0.0, 'splitFactor': 1.0}, {'date': '2022-01-07T00:00:00.000Z', 'close': 172.17, 'high': 174.14, 'low': 171.03, 'open': 172.89, 'volume': 86709147, 'adjClose': 170.7003420379, 'adjHigh': 172.6535259481, 'adjLow': 169.5700731762, 'adjOpen': 171.4141960558, 'adjVolume': 86709147, 'divCash': 0.0, 'splitFactor': 1.0}, {'date': '2022-01-10T00:00:00.000Z', 'close': 172.19, 'high': 172.5, 'low': 168.17, 'open': 169.08, 'volume': 106765552, 'adjClose': 170.7201713162, 'adjHigh': 171.0275251294, 'adjLow': 166.7344863827, 'adjOpen': 167.6367185443, 'adjVolume': 106765552, 'divCash': 0.0, 'splitFactor': 1.0}, {'date': '2022-01-11T00:00:00.000Z', 'close': 175.08, 'high': 175.18, 'low': 170.82, 'open': 172.32, 'volume': 75937685, 'adjClose': 173.585502027, 'adjHigh': 173.6846484184, 'adjLow': 169.3618657543, 'adjOpen': 170.849061625, 'adjVolume': 75937685, 'divCash': 0.0, 'splitFactor': 1.0}, {'date': '2022-01-12T00:00:00.000Z', 'close': 175.53, 'high': 177.18, 'low': 174.82, 'open': 176.12, 'volume': 74805173, 'adjClose': 174.0316607882, 'adjHigh': 175.667576246, 'adjLow': 173.3277214094, 'adjOpen': 174.6166244974, 'adjVolume': 74805173, 'divCash': 0.0, 'splitFactor': 1.0}, {'date': '2022-01-13T00:00:00.000Z', 'close': 172.19, 'high': 176.62, 'low': 171.79, 'open': 175.78, 'volume': 84505760, 'adjClose': 170.7201713162, 'adjHigh': 175.1123564543, 'adjLow': 170.3235857506, 'adjOpen': 174.2795267667, 'adjVolume': 84505760, 'divCash': 0.0, 'splitFactor': 1.0}, {'date': '2022-01-14T00:00:00.000Z', 'close': 173.07, 'high': 173.78, 'low': 171.09, 'open': 171.34, 'volume': 80440780, 'adjClose': 171.5926595603, 'adjHigh': 172.2965989391, 'adjLow': 169.629561011, 'adjOpen': 169.8774269894, 'adjVolume': 80440780, 'divCash': 0.0, 'splitFactor': 1.0}, {'date': '2022-01-18T00:00:00.000Z', 'close': 169.8, 'high': 172.54, 'low': 169.405, 'open': 171.51, 'volume': 90500236, 'adjClose': 168.3505725622, 'adjHigh': 171.067183686, 'adjLow': 167.9589443162, 'adjOpen': 170.0459758548, 'adjVolume': 90500236, 'divCash': 0.0, 'splitFactor': 1.0}, {'date': '2022-01-19T00:00:00.000Z', 'close': 166.23, 'high': 171.08, 'low': 165.94, 'open': 170.0, 'volume': 92914792, 'adjClose': 164.81104639, 'adjHigh': 169.6196463719, 'adjLow': 164.523521855, 'adjOpen': 168.548865345, 'adjVolume': 92914792, 'divCash': 0.0, 'splitFactor': 1.0}, {'date': '2022-01-20T00:00:00.000Z', 'close': 164.51, 'high': 169.68, 'low': 164.18, 'open': 166.98, 'volume': 91420515, 'adjClose': 163.1057284582, 'adjHigh': 168.2315968925, 'adjLow': 162.7785453667, 'adjOpen': 165.5546443253, 'adjVolume': 91420515, 'divCash': 0.0, 'splitFactor': 1.0}, {'date': '2022-01-21T00:00:00.000Z', 'close': 162.41, 'high': 166.33, 'low': 162.3, 'open': 164.415, 'volume': 122848858, 'adjClose': 161.0236542393, 'adjHigh': 164.9101927813, 'adjLow': 160.9145932087, 'adjOpen': 163.0115393864, 'adjVolume': 122848858, 'divCash': 0.0, 'splitFactor': 1.0}, {'date': '2022-01-24T00:00:00.000Z', 'close': 161.62, 'high': 162.3, 'low': 154.7, 'open': 160.02, 'volume': 162706686, 'adjClose': 160.2403977474, 'adjHigh': 160.9145932087, 'adjLow': 153.3794674639, 'adjOpen': 158.6540554853, 'adjVolume': 162706686, 'divCash': 0.0, 'splitFactor': 1.0}, {'date': '2022-01-25T00:00:00.000Z', 'close': 159.78, 'high': 162.76, 'low': 157.02, 'open': 158.98, 'volume': 115798367, 'adjClose': 158.416104146, 'adjHigh': 161.3706666091, 'adjLow': 155.6796637439, 'adjOpen': 157.6229330149, 'adjVolume': 115798367, 'divCash': 0.0, 'splitFactor': 1.0}, {'date': '2022-01-26T00:00:00.000Z', 'close': 159.69, 'high': 164.3894, 'low': 157.82, 'open': 163.5, 'volume': 108275308, 'adjClose': 158.3268723937, 'adjHigh': 162.9861579102, 'adjLow': 156.4728348749, 'adjOpen': 162.1043499053, 'adjVolume': 108275308, 'divCash': 0.0, 'splitFactor': 1.0}, {'date': '2022-01-27T00:00:00.000Z', 'close': 159.22, 'high': 163.84, 'low': 158.28, 'open': 162.45, 'volume': 121954638, 'adjClose': 157.8608843543, 'adjHigh': 162.441447636, 'adjLow': 156.9289082753, 'adjOpen': 161.0633127958, 'adjVolume': 121954638, 'divCash': 0.0, 'splitFactor': 1.0}, {'date': '2022-01-28T00:00:00.000Z', 'close': 170.33, 'high': 170.35, 'low': 162.8, 'open': 165.71, 'volume': 179935660, 'adjClose': 168.8760484365, 'adjHigh': 168.8958777148, 'adjLow': 161.4103251656, 'adjOpen': 164.2954851548, 'adjVolume': 179935660, 'divCash': 0.0, 'splitFactor': 1.0}, {'date': '2022-01-31T00:00:00.000Z', 'close': 174.78, 'high': 175.0, 'low': 169.51, 'open': 170.16, 'volume': 115541590, 'adjClose': 173.2880628529, 'adjHigh': 173.5061849139, 'adjLow': 168.0630480272, 'adjOpen': 168.7074995712, 'adjVolume': 115541590, 'divCash': 0.0, 'splitFactor': 1.0}, {'date': '2022-02-01T00:00:00.000Z', 'close': 174.61, 'high': 174.84, 'low': 172.31, 'open': 174.01, 'volume': 86213911, 'adjClose': 173.1195139875, 'adjHigh': 173.3475506877, 'adjLow': 170.8391469858, 'adjOpen': 172.5246356393, 'adjVolume': 86213911, 'divCash': 0.0, 'splitFactor': 1.0}, {'date': '2022-02-02T00:00:00.000Z', 'close': 175.84, 'high': 175.88, 'low': 173.33, 'open': 174.745, 'volume': 84914256, 'adjClose': 174.3390146015, 'adjHigh': 174.3786731581, 'adjLow': 171.8504401779, 'adjOpen': 173.2533616159, 'adjVolume': 84914256, 'divCash': 0.0, 'splitFactor': 1.0}, {'date': '2022-02-03T00:00:00.000Z', 'close': 172.9, 'high': 176.2399, 'low': 172.12, 'open': 174.48, 'volume': 89418074, 'adjClose': 171.424110695, 'adjHigh': 174.7355010206, 'adjLow': 170.6507688422, 'adjOpen': 172.9906236788, 'adjVolume': 89418074, 'divCash': 0.0, 'splitFactor': 1.0}, {'date': '2022-02-04T00:00:00.000Z', 'close': 172.39, 'high': 174.1, 'low': 170.68, 'open': 171.68, 'volume': 82465400, 'adjClose': 171.13658616, 'adjHigh': 172.8341530857, 'adjLow': 169.4390192342, 'adjOpen': 170.4317484305, 'adjVolume': 82465400, 'divCash': 0.22, 'splitFactor': 1.0}, {'date': '2022-02-07T00:00:00.000Z', 'close': 171.66, 'high': 173.9458, 'low': 170.95, 'open': 172.86, 'volume': 77251204, 'adjClose': 170.4118938466, 'adjHigh': 172.6810742436, 'adjLow': 169.7070561172, 'adjOpen': 171.6031688822, 'adjVolume': 77251204, 'divCash': 0.0, 'splitFactor': 1.0}, {'date': '2022-02-08T00:00:00.000Z', 'close': 174.83, 'high': 175.35, 'low': 171.43, 'open': 171.73, 'volume': 74829217, 'adjClose': 173.5588453991, 'adjHigh': 174.0750645812, 'adjLow': 170.1835661315, 'adjOpen': 170.4813848904, 'adjVolume': 74829217, 'divCash': 0.0, 'splitFactor': 1.0}, {'date': '2022-02-09T00:00:00.000Z', 'close': 176.28, 'high': 176.65, 'low': 174.9, 'open': 176.05, 'volume': 71285038, 'adjClose': 174.9983027338, 'adjHigh': 175.3656125364, 'adjLow': 173.6283364428, 'adjOpen': 174.7699750186, 'adjVolume': 71285038, 'divCash': 0.0, 'splitFactor': 1.0}, {'date': '2022-02-10T00:00:00.000Z', 'close': 172.12, 'high': 175.48, 'low': 171.55, 'open': 174.14, 'volume': 90865899, 'adjClose': 170.8685492769, 'adjHigh': 174.2041193767, 'adjLow': 170.302693635, 'adjOpen': 172.8738622536, 'adjVolume': 90865899, 'divCash': 0.0, 'splitFactor': 1.0}, {'date': '2022-02-11T00:00:00.000Z', 'close': 168.64, 'high': 173.08, 'low': 168.04, 'open': 172.33, 'volume': 98670687, 'adjClose': 167.4138516736, 'adjHigh': 171.8215693054, 'adjLow': 166.8182141558, 'adjOpen': 171.0770224082, 'adjVolume': 98670687, 'divCash': 0.0, 'splitFactor': 1.0}, {'date': '2022-02-14T00:00:00.000Z', 'close': 168.88, 'high': 169.58, 'low': 166.56, 'open': 167.37, 'volume': 86185530, 'adjClose': 167.6521066807, 'adjHigh': 168.3470171182, 'adjLow': 165.3489749452, 'adjOpen': 166.1530855942, 'adjVolume': 86185530, 'divCash': 0.0, 'splitFactor': 1.0}, {'date': '2022-02-15T00:00:00.000Z', 'close': 172.79, 'high': 172.95, 'low': 170.25, 'open': 170.97, 'volume': 64286320, 'adjClose': 171.5336778385, 'adjHigh': 171.6925145099, 'adjLow': 169.0121456798, 'adjOpen': 169.7269107011, 'adjVolume': 64286320, 'divCash': 0.0, 'splitFactor': 1.0}, {'date': '2022-02-16T00:00:00.000Z', 'close': 172.55, 'high': 173.34, 'low': 170.05, 'open': 171.85, 'volume': 61177398, 'adjClose': 171.2954228314, 'adjHigh': 172.0796788965, 'adjLow': 168.8135998405, 'adjOpen': 170.6005123939, 'adjVolume': 61177398, 'divCash': 0.0, 'splitFactor': 1.0}, {'date': '2022-02-17T00:00:00.000Z', 'close': 168.88, 'high': 171.91, 'low': 168.47, 'open': 171.03, 'volume': 69589344, 'adjClose': 167.6521066807, 'adjHigh': 170.6600761457, 'adjLow': 167.2450877102, 'adjOpen': 169.7864744529, 'adjVolume': 69589344, 'divCash': 0.0, 'splitFactor': 1.0}, {'date': '2022-02-18T00:00:00.000Z', 'close': 167.3, 'high': 170.5413, 'low': 166.19, 'open': 169.82, 'volume': 82772674, 'adjClose': 166.0835945505, 'adjHigh': 169.3013276947, 'adjLow': 164.9816651425, 'adjOpen': 168.5852721253, 'adjVolume': 82772674, 'divCash': 0.0, 'splitFactor': 1.0}, {'date': '2022-02-22T00:00:00.000Z', 'close': 164.32, 'high': 166.69, 'low': 162.15, 'open': 164.98, 'volume': 90457637, 'adjClose': 163.1252615454, 'adjHigh': 165.4780297407, 'adjLow': 160.9710391893, 'adjOpen': 163.780462815, 'adjVolume': 90457637, 'divCash': 0.0, 'splitFactor': 1.0}, {'date': '2022-02-23T00:00:00.000Z', 'close': 160.07, 'high': 166.15, 'low': 159.75, 'open': 165.54, 'volume': 90009247, 'adjClose': 158.9061624608, 'adjHigh': 164.9419559747, 'adjLow': 158.588489118, 'adjOpen': 164.3363911649, 'adjVolume': 90009247, 'divCash': 0.0, 'splitFactor': 1.0}, {'date': '2022-02-24T00:00:00.000Z', 'close': 162.74, 'high': 162.85, 'low': 152.0, 'open': 152.58, 'volume': 141147540, 'adjClose': 161.5567494151, 'adjHigh': 161.6659496267, 'adjLow': 150.8948378462, 'adjOpen': 151.4706207801, 'adjVolume': 141147540, 'divCash': 0.0, 'splitFactor': 1.0}, {'date': '2022-02-25T00:00:00.000Z', 'close': 164.85, 'high': 165.12, 'low': 160.8738, 'open': 163.84, 'volume': 91974222, 'adjClose': 163.6514080194, 'adjHigh': 163.9194449024, 'adjLow': 159.7041181889, 'adjOpen': 162.6487515311, 'adjVolume': 91974222, 'divCash': 0.0, 'splitFactor': 1.0}, {'date': '2022-02-28T00:00:00.000Z', 'close': 165.12, 'high': 165.42, 'low': 162.43, 'open': 163.06, 'volume': 95056629, 'adjClose': 163.9194449024, 'adjHigh': 164.2172636613, 'adjLow': 161.2490033642, 'adjOpen': 161.8744227579, 'adjVolume': 95056629, 'divCash': 0.0, 'splitFactor': 1.0}, {'date': '2022-03-01T00:00:00.000Z', 'close': 163.2, 'high': 166.6, 'low': 161.97, 'open': 164.695, 'volume': 83474425, 'adjClose': 162.0134048454, 'adjHigh': 165.3886841131, 'adjLow': 160.7923479339, 'adjOpen': 163.497534994, 'adjVolume': 83474425, 'divCash': 0.0, 'splitFactor': 1.0}]\n"
     ]
    }
   ],
   "source": [
    "headers = {\n",
    "    'Content-Type': 'application/json'\n",
    "}\n",
    "requestResponse = requests.get(requests_url, headers=headers)\n",
    "print(requestResponse.json())"
   ]
  },
  {
   "cell_type": "code",
   "execution_count": 5,
   "metadata": {},
   "outputs": [
    {
     "name": "stdout",
     "output_type": "stream",
     "text": [
      "                        date   close      high       low     open     volume  \\\n",
      "0   2022-01-03T00:00:00.000Z  182.01  182.8800  177.7100  177.830  104701220   \n",
      "1   2022-01-04T00:00:00.000Z  179.70  182.9400  179.1200  182.630   99310438   \n",
      "2   2022-01-05T00:00:00.000Z  174.92  180.1700  174.6400  179.610   94537602   \n",
      "3   2022-01-06T00:00:00.000Z  172.00  175.3000  171.6400  172.700   96903955   \n",
      "4   2022-01-07T00:00:00.000Z  172.17  174.1400  171.0300  172.890   86709147   \n",
      "5   2022-01-10T00:00:00.000Z  172.19  172.5000  168.1700  169.080  106765552   \n",
      "6   2022-01-11T00:00:00.000Z  175.08  175.1800  170.8200  172.320   75937685   \n",
      "7   2022-01-12T00:00:00.000Z  175.53  177.1800  174.8200  176.120   74805173   \n",
      "8   2022-01-13T00:00:00.000Z  172.19  176.6200  171.7900  175.780   84505760   \n",
      "9   2022-01-14T00:00:00.000Z  173.07  173.7800  171.0900  171.340   80440780   \n",
      "10  2022-01-18T00:00:00.000Z  169.80  172.5400  169.4050  171.510   90500236   \n",
      "11  2022-01-19T00:00:00.000Z  166.23  171.0800  165.9400  170.000   92914792   \n",
      "12  2022-01-20T00:00:00.000Z  164.51  169.6800  164.1800  166.980   91420515   \n",
      "13  2022-01-21T00:00:00.000Z  162.41  166.3300  162.3000  164.415  122848858   \n",
      "14  2022-01-24T00:00:00.000Z  161.62  162.3000  154.7000  160.020  162706686   \n",
      "15  2022-01-25T00:00:00.000Z  159.78  162.7600  157.0200  158.980  115798367   \n",
      "16  2022-01-26T00:00:00.000Z  159.69  164.3894  157.8200  163.500  108275308   \n",
      "17  2022-01-27T00:00:00.000Z  159.22  163.8400  158.2800  162.450  121954638   \n",
      "18  2022-01-28T00:00:00.000Z  170.33  170.3500  162.8000  165.710  179935660   \n",
      "19  2022-01-31T00:00:00.000Z  174.78  175.0000  169.5100  170.160  115541590   \n",
      "20  2022-02-01T00:00:00.000Z  174.61  174.8400  172.3100  174.010   86213911   \n",
      "21  2022-02-02T00:00:00.000Z  175.84  175.8800  173.3300  174.745   84914256   \n",
      "22  2022-02-03T00:00:00.000Z  172.90  176.2399  172.1200  174.480   89418074   \n",
      "23  2022-02-04T00:00:00.000Z  172.39  174.1000  170.6800  171.680   82465400   \n",
      "24  2022-02-07T00:00:00.000Z  171.66  173.9458  170.9500  172.860   77251204   \n",
      "25  2022-02-08T00:00:00.000Z  174.83  175.3500  171.4300  171.730   74829217   \n",
      "26  2022-02-09T00:00:00.000Z  176.28  176.6500  174.9000  176.050   71285038   \n",
      "27  2022-02-10T00:00:00.000Z  172.12  175.4800  171.5500  174.140   90865899   \n",
      "28  2022-02-11T00:00:00.000Z  168.64  173.0800  168.0400  172.330   98670687   \n",
      "29  2022-02-14T00:00:00.000Z  168.88  169.5800  166.5600  167.370   86185530   \n",
      "30  2022-02-15T00:00:00.000Z  172.79  172.9500  170.2500  170.970   64286320   \n",
      "31  2022-02-16T00:00:00.000Z  172.55  173.3400  170.0500  171.850   61177398   \n",
      "32  2022-02-17T00:00:00.000Z  168.88  171.9100  168.4700  171.030   69589344   \n",
      "33  2022-02-18T00:00:00.000Z  167.30  170.5413  166.1900  169.820   82772674   \n",
      "34  2022-02-22T00:00:00.000Z  164.32  166.6900  162.1500  164.980   90457637   \n",
      "35  2022-02-23T00:00:00.000Z  160.07  166.1500  159.7500  165.540   90009247   \n",
      "36  2022-02-24T00:00:00.000Z  162.74  162.8500  152.0000  152.580  141147540   \n",
      "37  2022-02-25T00:00:00.000Z  164.85  165.1200  160.8738  163.840   91974222   \n",
      "38  2022-02-28T00:00:00.000Z  165.12  165.4200  162.4300  163.060   95056629   \n",
      "39  2022-03-01T00:00:00.000Z  163.20  166.6000  161.9700  164.695   83474425   \n",
      "\n",
      "      adjClose     adjHigh      adjLow     adjOpen  adjVolume  divCash  \\\n",
      "0   180.456347  181.318921  176.193052  176.312028  104701220     0.00   \n",
      "1   178.166065  181.378408  177.591016  181.071055   99310438     0.00   \n",
      "2   173.426868  178.632053  173.149258  178.076834   94537602     0.00   \n",
      "3   170.531793  173.803624  170.174866  171.225818   96903955     0.00   \n",
      "4   170.700342  172.653526  169.570073  171.414196   86709147     0.00   \n",
      "5   170.720171  171.027525  166.734486  167.636719  106765552     0.00   \n",
      "6   173.585502  173.684648  169.361866  170.849062   75937685     0.00   \n",
      "7   174.031661  175.667576  173.327721  174.616624   74805173     0.00   \n",
      "8   170.720171  175.112356  170.323586  174.279527   84505760     0.00   \n",
      "9   171.592660  172.296599  169.629561  169.877427   80440780     0.00   \n",
      "10  168.350573  171.067184  167.958944  170.045976   90500236     0.00   \n",
      "11  164.811046  169.619646  164.523522  168.548865   92914792     0.00   \n",
      "12  163.105728  168.231597  162.778545  165.554644   91420515     0.00   \n",
      "13  161.023654  164.910193  160.914593  163.011539  122848858     0.00   \n",
      "14  160.240398  160.914593  153.379467  158.654055  162706686     0.00   \n",
      "15  158.416104  161.370667  155.679664  157.622933  115798367     0.00   \n",
      "16  158.326872  162.986158  156.472835  162.104350  108275308     0.00   \n",
      "17  157.860884  162.441448  156.928908  161.063313  121954638     0.00   \n",
      "18  168.876048  168.895878  161.410325  164.295485  179935660     0.00   \n",
      "19  173.288063  173.506185  168.063048  168.707500  115541590     0.00   \n",
      "20  173.119514  173.347551  170.839147  172.524636   86213911     0.00   \n",
      "21  174.339015  174.378673  171.850440  173.253362   84914256     0.00   \n",
      "22  171.424111  174.735501  170.650769  172.990624   89418074     0.00   \n",
      "23  171.136586  172.834153  169.439019  170.431748   82465400     0.22   \n",
      "24  170.411894  172.681074  169.707056  171.603169   77251204     0.00   \n",
      "25  173.558845  174.075065  170.183566  170.481385   74829217     0.00   \n",
      "26  174.998303  175.365613  173.628336  174.769975   71285038     0.00   \n",
      "27  170.868549  174.204119  170.302694  172.873862   90865899     0.00   \n",
      "28  167.413852  171.821569  166.818214  171.077022   98670687     0.00   \n",
      "29  167.652107  168.347017  165.348975  166.153086   86185530     0.00   \n",
      "30  171.533678  171.692515  169.012146  169.726911   64286320     0.00   \n",
      "31  171.295423  172.079679  168.813600  170.600512   61177398     0.00   \n",
      "32  167.652107  170.660076  167.245088  169.786474   69589344     0.00   \n",
      "33  166.083595  169.301328  164.981665  168.585272   82772674     0.00   \n",
      "34  163.125262  165.478030  160.971039  163.780463   90457637     0.00   \n",
      "35  158.906162  164.941956  158.588489  164.336391   90009247     0.00   \n",
      "36  161.556749  161.665950  150.894838  151.470621  141147540     0.00   \n",
      "37  163.651408  163.919445  159.704118  162.648752   91974222     0.00   \n",
      "38  163.919445  164.217264  161.249003  161.874423   95056629     0.00   \n",
      "39  162.013405  165.388684  160.792348  163.497535   83474425     0.00   \n",
      "\n",
      "    splitFactor  \n",
      "0           1.0  \n",
      "1           1.0  \n",
      "2           1.0  \n",
      "3           1.0  \n",
      "4           1.0  \n",
      "5           1.0  \n",
      "6           1.0  \n",
      "7           1.0  \n",
      "8           1.0  \n",
      "9           1.0  \n",
      "10          1.0  \n",
      "11          1.0  \n",
      "12          1.0  \n",
      "13          1.0  \n",
      "14          1.0  \n",
      "15          1.0  \n",
      "16          1.0  \n",
      "17          1.0  \n",
      "18          1.0  \n",
      "19          1.0  \n",
      "20          1.0  \n",
      "21          1.0  \n",
      "22          1.0  \n",
      "23          1.0  \n",
      "24          1.0  \n",
      "25          1.0  \n",
      "26          1.0  \n",
      "27          1.0  \n",
      "28          1.0  \n",
      "29          1.0  \n",
      "30          1.0  \n",
      "31          1.0  \n",
      "32          1.0  \n",
      "33          1.0  \n",
      "34          1.0  \n",
      "35          1.0  \n",
      "36          1.0  \n",
      "37          1.0  \n",
      "38          1.0  \n",
      "39          1.0  \n"
     ]
    }
   ],
   "source": [
    "requestResponse_norm =pd.json_normalize(requestResponse.json())\n",
    "print(requestResponse_norm)"
   ]
  },
  {
   "cell_type": "code",
   "execution_count": 6,
   "metadata": {},
   "outputs": [],
   "source": [
    "requestResponse_norm = requestResponse_norm.set_index('date')"
   ]
  },
  {
   "cell_type": "code",
   "execution_count": 7,
   "metadata": {},
   "outputs": [
    {
     "data": {
      "text/html": [
       "<div>\n",
       "<style scoped>\n",
       "    .dataframe tbody tr th:only-of-type {\n",
       "        vertical-align: middle;\n",
       "    }\n",
       "\n",
       "    .dataframe tbody tr th {\n",
       "        vertical-align: top;\n",
       "    }\n",
       "\n",
       "    .dataframe thead th {\n",
       "        text-align: right;\n",
       "    }\n",
       "</style>\n",
       "<table border=\"1\" class=\"dataframe\">\n",
       "  <thead>\n",
       "    <tr style=\"text-align: right;\">\n",
       "      <th></th>\n",
       "      <th>close</th>\n",
       "      <th>high</th>\n",
       "      <th>low</th>\n",
       "      <th>open</th>\n",
       "      <th>volume</th>\n",
       "      <th>adjClose</th>\n",
       "      <th>adjHigh</th>\n",
       "      <th>adjLow</th>\n",
       "      <th>adjOpen</th>\n",
       "      <th>adjVolume</th>\n",
       "      <th>divCash</th>\n",
       "      <th>splitFactor</th>\n",
       "    </tr>\n",
       "    <tr>\n",
       "      <th>date</th>\n",
       "      <th></th>\n",
       "      <th></th>\n",
       "      <th></th>\n",
       "      <th></th>\n",
       "      <th></th>\n",
       "      <th></th>\n",
       "      <th></th>\n",
       "      <th></th>\n",
       "      <th></th>\n",
       "      <th></th>\n",
       "      <th></th>\n",
       "      <th></th>\n",
       "    </tr>\n",
       "  </thead>\n",
       "  <tbody>\n",
       "    <tr>\n",
       "      <th>2022-01-03T00:00:00.000Z</th>\n",
       "      <td>182.01</td>\n",
       "      <td>182.88</td>\n",
       "      <td>177.71</td>\n",
       "      <td>177.83</td>\n",
       "      <td>104701220</td>\n",
       "      <td>180.456347</td>\n",
       "      <td>181.318921</td>\n",
       "      <td>176.193052</td>\n",
       "      <td>176.312028</td>\n",
       "      <td>104701220</td>\n",
       "      <td>0.0</td>\n",
       "      <td>1.0</td>\n",
       "    </tr>\n",
       "    <tr>\n",
       "      <th>2022-01-04T00:00:00.000Z</th>\n",
       "      <td>179.70</td>\n",
       "      <td>182.94</td>\n",
       "      <td>179.12</td>\n",
       "      <td>182.63</td>\n",
       "      <td>99310438</td>\n",
       "      <td>178.166065</td>\n",
       "      <td>181.378408</td>\n",
       "      <td>177.591016</td>\n",
       "      <td>181.071055</td>\n",
       "      <td>99310438</td>\n",
       "      <td>0.0</td>\n",
       "      <td>1.0</td>\n",
       "    </tr>\n",
       "    <tr>\n",
       "      <th>2022-01-05T00:00:00.000Z</th>\n",
       "      <td>174.92</td>\n",
       "      <td>180.17</td>\n",
       "      <td>174.64</td>\n",
       "      <td>179.61</td>\n",
       "      <td>94537602</td>\n",
       "      <td>173.426868</td>\n",
       "      <td>178.632053</td>\n",
       "      <td>173.149258</td>\n",
       "      <td>178.076834</td>\n",
       "      <td>94537602</td>\n",
       "      <td>0.0</td>\n",
       "      <td>1.0</td>\n",
       "    </tr>\n",
       "    <tr>\n",
       "      <th>2022-01-06T00:00:00.000Z</th>\n",
       "      <td>172.00</td>\n",
       "      <td>175.30</td>\n",
       "      <td>171.64</td>\n",
       "      <td>172.70</td>\n",
       "      <td>96903955</td>\n",
       "      <td>170.531793</td>\n",
       "      <td>173.803624</td>\n",
       "      <td>170.174866</td>\n",
       "      <td>171.225818</td>\n",
       "      <td>96903955</td>\n",
       "      <td>0.0</td>\n",
       "      <td>1.0</td>\n",
       "    </tr>\n",
       "    <tr>\n",
       "      <th>2022-01-07T00:00:00.000Z</th>\n",
       "      <td>172.17</td>\n",
       "      <td>174.14</td>\n",
       "      <td>171.03</td>\n",
       "      <td>172.89</td>\n",
       "      <td>86709147</td>\n",
       "      <td>170.700342</td>\n",
       "      <td>172.653526</td>\n",
       "      <td>169.570073</td>\n",
       "      <td>171.414196</td>\n",
       "      <td>86709147</td>\n",
       "      <td>0.0</td>\n",
       "      <td>1.0</td>\n",
       "    </tr>\n",
       "  </tbody>\n",
       "</table>\n",
       "</div>"
      ],
      "text/plain": [
       "                           close    high     low    open     volume  \\\n",
       "date                                                                  \n",
       "2022-01-03T00:00:00.000Z  182.01  182.88  177.71  177.83  104701220   \n",
       "2022-01-04T00:00:00.000Z  179.70  182.94  179.12  182.63   99310438   \n",
       "2022-01-05T00:00:00.000Z  174.92  180.17  174.64  179.61   94537602   \n",
       "2022-01-06T00:00:00.000Z  172.00  175.30  171.64  172.70   96903955   \n",
       "2022-01-07T00:00:00.000Z  172.17  174.14  171.03  172.89   86709147   \n",
       "\n",
       "                            adjClose     adjHigh      adjLow     adjOpen  \\\n",
       "date                                                                       \n",
       "2022-01-03T00:00:00.000Z  180.456347  181.318921  176.193052  176.312028   \n",
       "2022-01-04T00:00:00.000Z  178.166065  181.378408  177.591016  181.071055   \n",
       "2022-01-05T00:00:00.000Z  173.426868  178.632053  173.149258  178.076834   \n",
       "2022-01-06T00:00:00.000Z  170.531793  173.803624  170.174866  171.225818   \n",
       "2022-01-07T00:00:00.000Z  170.700342  172.653526  169.570073  171.414196   \n",
       "\n",
       "                          adjVolume  divCash  splitFactor  \n",
       "date                                                       \n",
       "2022-01-03T00:00:00.000Z  104701220      0.0          1.0  \n",
       "2022-01-04T00:00:00.000Z   99310438      0.0          1.0  \n",
       "2022-01-05T00:00:00.000Z   94537602      0.0          1.0  \n",
       "2022-01-06T00:00:00.000Z   96903955      0.0          1.0  \n",
       "2022-01-07T00:00:00.000Z   86709147      0.0          1.0  "
      ]
     },
     "execution_count": 7,
     "metadata": {},
     "output_type": "execute_result"
    }
   ],
   "source": [
    "requestResponse_norm.head()"
   ]
  },
  {
   "cell_type": "code",
   "execution_count": 8,
   "metadata": {},
   "outputs": [],
   "source": [
    "requestResponse_norm.index = pd.to_datetime(requestResponse_norm.index)"
   ]
  },
  {
   "cell_type": "code",
   "execution_count": 9,
   "metadata": {},
   "outputs": [
    {
     "data": {
      "text/plain": [
       "<AxesSubplot:xlabel='date'>"
      ]
     },
     "execution_count": 9,
     "metadata": {},
     "output_type": "execute_result"
    },
    {
     "data": {
      "image/png": "[encoded data removed]",
      "text/plain": [
       "<Figure size 640x480 with 1 Axes>"
      ]
     },
     "metadata": {},
     "output_type": "display_data"
    }
   ],
   "source": [
    "requestResponse_norm['close'].plot()"
   ]
  },
  {
   "cell_type": "code",
   "execution_count": null,
   "metadata": {},
   "outputs": [],
   "source": []
  }
 ],
 "metadata": {
  "kernelspec": {
   "display_name": "dev2",
   "language": "python",
   "name": "python3"
  },
  "language_info": {
   "codemirror_mode": {
    "name": "ipython",
    "version": 3
   },
   "file_extension": ".py",
   "mimetype": "text/x-python",
   "name": "python",
   "nbconvert_exporter": "python",
   "pygments_lexer": "ipython3",
   "version": "3.7.13"
  },
  "orig_nbformat": 4
 },
 "nbformat": 4,
 "nbformat_minor": 2
}
